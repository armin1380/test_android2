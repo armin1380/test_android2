{
  "nbformat": 4,
  "nbformat_minor": 0,
  "metadata": {
    "colab": {
      "provenance": [],
      "gpuType": "T4",
      "authorship_tag": "ABX9TyPaCDc8Cg/pIp9KpCt+LhH1",
      "include_colab_link": true
    },
    "kernelspec": {
      "name": "python3",
      "display_name": "Python 3"
    },
    "language_info": {
      "name": "python"
    },
    "accelerator": "GPU"
  },
  "cells": [
    {
      "cell_type": "markdown",
      "metadata": {
        "id": "view-in-github",
        "colab_type": "text"
      },
      "source": [
        "<a href=\"https://colab.research.google.com/github/armin1380/test_android2/blob/main/Untitled1.ipynb\" target=\"_parent\"><img src=\"https://colab.research.google.com/assets/colab-badge.svg\" alt=\"Open In Colab\"/></a>"
      ]
    },
    {
      "cell_type": "code",
      "execution_count": 4,
      "metadata": {
        "id": "Z-JzE7fLaoJZ",
        "colab": {
          "base_uri": "https://localhost:8080/"
        },
        "outputId": "df49d89b-566b-4f70-befe-26f81c39edff"
      },
      "outputs": [
        {
          "output_type": "stream",
          "name": "stdout",
          "text": [
            "٤٢ ٨٨٩ ! ٥٥\n",
            "٩١٧٤٧١ ٥ ٨٤\n"
          ]
        }
      ],
      "source": [
        "from PIL import Image\n",
        "import easyocr\n",
        "image_path=\"/content/8.jpg\"\n",
        "reader = easyocr.Reader(['fa'])\n",
        "result = reader.readtext(image_path)\n",
        "for (bbox, text, prob) in result:\n",
        "    print(text)\n"
      ]
    }
  ]
}